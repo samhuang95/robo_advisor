{
 "cells": [
  {
   "attachments": {},
   "cell_type": "markdown",
   "id": "34ea6b50",
   "metadata": {},
   "source": [
    "## 登入蝦皮流程"
   ]
  },
  {
   "cell_type": "code",
   "execution_count": 1,
   "id": "5fb20f9d",
   "metadata": {},
   "outputs": [],
   "source": [
    "from selenium.webdriver.chrome.service import Service as ChromeService\n",
    "from seleniumwire import webdriver\n",
    "from selenium.webdriver import Chrome\n",
    "from selenium.webdriver.common.by import By\n",
    "import time\n",
    "import random\n",
    "from selenium.webdriver.chrome.options import Options\n",
    "\n",
    "from selenium.webdriver.support.ui import WebDriverWait\n",
    "from selenium.webdriver.support import expected_conditions as EC\n",
    "from selenium.common.exceptions import TimeoutException"
   ]
  },
  {
   "cell_type": "code",
   "execution_count": 2,
   "id": "52fad6a5",
   "metadata": {},
   "outputs": [],
   "source": [
    "username = 'userID'\n",
    "password = 'user_password'\n",
    "# 商品表現網頁\n",
    "url = 'https://shopee.tw/seller/login?next=https%3A%2F%2Fseller.shopee.tw%2Fdatacenter%2Fproducts%2Fanalysis%2Fperformance'"
   ]
  },
  {
   "cell_type": "code",
   "execution_count": 3,
   "id": "8eb38aed",
   "metadata": {},
   "outputs": [],
   "source": [
    "service = ChromeService(executable_path='./chromedriver.exe')"
   ]
  },
  {
   "cell_type": "code",
   "execution_count": 29,
   "id": "df9df3c8",
   "metadata": {},
   "outputs": [],
   "source": [
    "option = webdriver.ChromeOptions()\n",
    "option.add_experimental_option(\"detach\", True)\n",
    "\n",
    "# 避免 chrome 跳出要求權限的顯示通知\n",
    "# 創建 Preferences 物件\n",
    "# 設定下載路徑\n",
    "download_path = \"D:\\\\robo_advisor\\\\robo_advisor\\\\docker\\\\app\\\\functions\\\\ETL_update_shopee_data\\\\csv_download\"\n",
    "prefs = {\n",
    "    'profile.default_content_setting_values.notifications': 2,\n",
    "    'profile.default_content_settings.popups': 0,\n",
    "    'download.default_directory': download_path,\n",
    "    'profile.default_content_setting_values.automatic_downloads': 1\n",
    "}\n",
    "\n",
    "option.add_experimental_option('prefs', prefs)\n"
   ]
  },
  {
   "cell_type": "code",
   "execution_count": 104,
   "id": "616dfac3",
   "metadata": {},
   "outputs": [],
   "source": [
    "driver = webdriver.Chrome(options=option)\n",
    "driver.get(url)"
   ]
  },
  {
   "cell_type": "code",
   "execution_count": 105,
   "id": "263996b4",
   "metadata": {},
   "outputs": [],
   "source": [
    "time.sleep(random.randint(5., 10.))\n",
    "driver.find_element(By.CSS_SELECTOR, 'input[name=\"loginKey\"]').send_keys(username)\n",
    "time.sleep(random.randint(2, 4))\n",
    "driver.find_element(By.CSS_SELECTOR, 'input[name=\"password\"]').send_keys(password)\n",
    "time.sleep(random.randint(1,3))\n",
    "driver.find_elements(By.CSS_SELECTOR, 'button')[2].click()\n",
    "\n",
    "# 結果會直接進入到商品 > 商品表現"
   ]
  },
  {
   "attachments": {},
   "cell_type": "markdown",
   "id": "eabd1431",
   "metadata": {},
   "source": [
    "# 自動化抓取資料"
   ]
  },
  {
   "attachments": {},
   "cell_type": "markdown",
   "id": "d46a6da9",
   "metadata": {},
   "source": [
    "## update product_detail data"
   ]
  },
  {
   "cell_type": "code",
   "execution_count": 106,
   "id": "8ca92131",
   "metadata": {},
   "outputs": [],
   "source": [
    "# 進到商品>商品表現\n",
    "time.sleep(random.randint(20., 30.))\n",
    "# 關閉教學\n",
    "element = driver.find_elements(By.CLASS_NAME ,'shopee-button')[71]\n",
    "driver.execute_script(\"arguments[0].click();\", element) "
   ]
  },
  {
   "cell_type": "code",
   "execution_count": 107,
   "id": "abba8c1c",
   "metadata": {},
   "outputs": [],
   "source": [
    "# 進到商品>商品表現\n",
    "time.sleep(random.randint(3., 6.))\n",
    "# 選擇日期\n",
    "element = driver.find_element(By.CLASS_NAME ,'bi-date-input')\n",
    "driver.execute_script(\"arguments[0].click();\", element)"
   ]
  },
  {
   "cell_type": "code",
   "execution_count": 108,
   "id": "64af29a0",
   "metadata": {},
   "outputs": [],
   "source": [
    "time.sleep(random.randint(3., 6.))\n",
    "# 選擇昨天\n",
    "element = driver.find_elements(By.CLASS_NAME ,'shopee-date-shortcut-item')[1]\n",
    "driver.execute_script(\"arguments[0].click();\", element)"
   ]
  },
  {
   "cell_type": "code",
   "execution_count": 10,
   "id": "90baa867",
   "metadata": {},
   "outputs": [],
   "source": [
    "time.sleep(random.randint(45., 50.))\n",
    "# 點擊下載\n",
    "element = driver.find_elements(By.CLASS_NAME ,'shopee-button')[2]\n",
    "driver.execute_script(\"arguments[0].click();\", element)"
   ]
  },
  {
   "cell_type": "code",
   "execution_count": 11,
   "id": "d34caa5b",
   "metadata": {},
   "outputs": [],
   "source": [
    "time.sleep(random.randint(20., 30.))\n",
    "# 下載\n",
    "element = driver.find_elements(By.CLASS_NAME ,'shopee-button')[4]\n",
    "driver.execute_script(\"arguments[0].click();\", element)"
   ]
  },
  {
   "attachments": {},
   "cell_type": "markdown",
   "id": "6d66b635",
   "metadata": {},
   "source": [
    "## update product_overview data"
   ]
  },
  {
   "cell_type": "code",
   "execution_count": 109,
   "id": "520e48e9",
   "metadata": {},
   "outputs": [],
   "source": [
    "time.sleep(random.randint(3., 6.))\n",
    "# 進到商品>商品指標\n",
    "element = driver.find_elements(By.CLASS_NAME ,'side-navbar-item')[0]\n",
    "driver.execute_script(\"arguments[0].click();\", element)"
   ]
  },
  {
   "cell_type": "code",
   "execution_count": 110,
   "id": "b71a1983",
   "metadata": {},
   "outputs": [],
   "source": [
    "time.sleep(random.randint(3., 6.))\n",
    "# 點掉教學蓋板\n",
    "element = driver.find_elements(By.CLASS_NAME ,'shopee-button')[10]\n",
    "driver.execute_script(\"arguments[0].click();\", element)"
   ]
  },
  {
   "cell_type": "code",
   "execution_count": 111,
   "id": "c6dbeeac",
   "metadata": {},
   "outputs": [],
   "source": [
    "time.sleep(random.randint(3., 6.))\n",
    "# 選擇日期\n",
    "element = driver.find_element(By.CLASS_NAME ,'bi-date-input')\n",
    "driver.execute_script(\"arguments[0].click();\", element)"
   ]
  },
  {
   "cell_type": "code",
   "execution_count": 15,
   "id": "15240a41",
   "metadata": {},
   "outputs": [],
   "source": [
    "time.sleep(random.randint(3., 6.))\n",
    "# 選擇昨天\n",
    "element = driver.find_elements(By.CLASS_NAME ,'shopee-date-shortcut-item')[1]\n",
    "driver.execute_script(\"arguments[0].click();\", element)"
   ]
  },
  {
   "cell_type": "code",
   "execution_count": 16,
   "id": "1d6fe3de",
   "metadata": {},
   "outputs": [],
   "source": [
    "time.sleep(random.randint(40., 50.))\n",
    "# 點擊下載\n",
    "element = driver.find_elements(By.CLASS_NAME ,'track-click-normal-export')[0]\n",
    "driver.execute_script(\"arguments[0].click();\", element)"
   ]
  },
  {
   "attachments": {},
   "cell_type": "markdown",
   "id": "ff623d5b",
   "metadata": {},
   "source": [
    "## update traffic_overview data"
   ]
  },
  {
   "cell_type": "code",
   "execution_count": 112,
   "id": "37883eaf",
   "metadata": {},
   "outputs": [],
   "source": [
    "time.sleep(random.randint(3., 6.))\n",
    "# 進到流量總攬\n",
    "element = driver.find_elements(By.CLASS_NAME ,'nav-tab')[3]\n",
    "driver.execute_script(\"arguments[0].click();\", element)"
   ]
  },
  {
   "cell_type": "code",
   "execution_count": 113,
   "id": "4fedc906",
   "metadata": {},
   "outputs": [],
   "source": [
    "time.sleep(random.randint(3., 6.))\n",
    "# 選擇日期\n",
    "element = driver.find_element(By.CLASS_NAME ,'bi-date-input')\n",
    "driver.execute_script(\"arguments[0].click();\", element)"
   ]
  },
  {
   "cell_type": "code",
   "execution_count": 114,
   "id": "8d8900d0",
   "metadata": {},
   "outputs": [],
   "source": [
    "time.sleep(random.randint(3., 6.))\n",
    "# 選擇昨天\n",
    "element = driver.find_elements(By.CLASS_NAME ,'shopee-date-shortcut-item')[0]\n",
    "driver.execute_script(\"arguments[0].click();\", element)"
   ]
  },
  {
   "cell_type": "code",
   "execution_count": 36,
   "id": "c328a2a4",
   "metadata": {},
   "outputs": [],
   "source": [
    "time.sleep(random.randint(50., 55.))\n",
    "# 點擊下載\n",
    "element = driver.find_elements(By.CLASS_NAME ,'track-click-normal-export')[0]\n",
    "driver.execute_script(\"arguments[0].click();\", element)"
   ]
  },
  {
   "attachments": {},
   "cell_type": "markdown",
   "id": "47968385",
   "metadata": {},
   "source": [
    "## update stats data"
   ]
  },
  {
   "cell_type": "code",
   "execution_count": 115,
   "id": "dd633b6b",
   "metadata": {},
   "outputs": [],
   "source": [
    "time.sleep(random.randint(3., 6.))\n",
    "# 進到數據總覽\n",
    "element = driver.find_elements(By.CLASS_NAME ,'nav-tab')[0]\n",
    "driver.execute_script(\"arguments[0].click();\", element)"
   ]
  },
  {
   "cell_type": "code",
   "execution_count": 116,
   "id": "1d257032",
   "metadata": {},
   "outputs": [],
   "source": [
    "time.sleep(random.randint(3., 6.))\n",
    "# 點掉更新公告、歡迎頁\n",
    "try:\n",
    "    element = driver.find_elements(By.CLASS_NAME ,'shopee-button')[9]\n",
    "    driver.execute_script(\"arguments[0].click();\", element)\n",
    "except:\n",
    "    pass"
   ]
  },
  {
   "cell_type": "code",
   "execution_count": 117,
   "id": "6e40c489",
   "metadata": {},
   "outputs": [],
   "source": [
    "time.sleep(random.randint(3., 6.))\n",
    "# 選擇日期\n",
    "try:\n",
    "    element = driver.find_element(By.CLASS_NAME ,'bi-date-input')\n",
    "    driver.execute_script(\"arguments[0].click();\", element)\n",
    "except:\n",
    "    pass"
   ]
  },
  {
   "cell_type": "code",
   "execution_count": 118,
   "id": "b9649079",
   "metadata": {},
   "outputs": [],
   "source": [
    "time.sleep(random.randint(3., 6.))\n",
    "# 點掉教學蓋板\n",
    "try:\n",
    "    element = driver.find_elements(By.CLASS_NAME ,'shopee-button')[4]\n",
    "    driver.execute_script(\"arguments[0].click();\", element)\n",
    "except:\n",
    "    pass"
   ]
  },
  {
   "cell_type": "code",
   "execution_count": 119,
   "id": "5eab19ff",
   "metadata": {},
   "outputs": [],
   "source": [
    "time.sleep(random.randint(3., 6.))\n",
    "# 選擇日期\n",
    "try:\n",
    "    element = driver.find_element(By.CLASS_NAME ,'bi-date-input')\n",
    "    driver.execute_script(\"arguments[0].click();\", element)\n",
    "except:\n",
    "    pass"
   ]
  },
  {
   "cell_type": "code",
   "execution_count": 120,
   "id": "d2bac58e",
   "metadata": {},
   "outputs": [],
   "source": [
    "time.sleep(random.randint(3., 6.))\n",
    "# 選擇昨天\n",
    "element = driver.find_elements(By.CLASS_NAME ,'shopee-date-shortcut-item')[1]\n",
    "driver.execute_script(\"arguments[0].click();\", element)"
   ]
  },
  {
   "cell_type": "code",
   "execution_count": 121,
   "id": "808d46ff",
   "metadata": {},
   "outputs": [],
   "source": [
    "time.sleep(random.randint(45., 50.))\n",
    "# 點擊下載\n",
    "element = driver.find_element(By.CLASS_NAME ,'track-click-normal-export')\n",
    "driver.execute_script(\"arguments[0].click();\", element)"
   ]
  },
  {
   "attachments": {},
   "cell_type": "markdown",
   "id": "c78adab4",
   "metadata": {},
   "source": [
    "## make sure data file is exist or not "
   ]
  },
  {
   "cell_type": "code",
   "execution_count": 122,
   "id": "0d7a9361",
   "metadata": {},
   "outputs": [],
   "source": [
    "from datetime import timedelta\n",
    "import datetime\n",
    "import os\n",
    "\n",
    "now = datetime.datetime.now().date()\n",
    "yesterday = now - timedelta(days=1)\n",
    "year = yesterday.strftime(\"%Y\")\n",
    "month = yesterday.strftime(\"%m\")\n",
    "day = yesterday.strftime(\"%d\")\n",
    "\n",
    "product_overview = f'[export_report]productoverview{year}{month}{day}-{year}{month}{day}.xlsx'\n",
    "product_detail = f'export_report.parentskudetail.{year}{month}{day}_{year}{month}{day}.xlsx'\n",
    "traffic_overview = f'[export_report]traffic_overview_{year}{month}{day}_{year}{month}{day}.xlsx'\n",
    "stats = f'flychenjack01.shopee-shop-stats.{year}{month}{day}-{year}{month}{day}.xlsx'\n"
   ]
  },
  {
   "cell_type": "code",
   "execution_count": 123,
   "id": "bf4fc84a",
   "metadata": {},
   "outputs": [
    {
     "name": "stdout",
     "output_type": "stream",
     "text": [
      "product_overview is exist\n"
     ]
    }
   ],
   "source": [
    "if not os.path.isfile(os.path.join(download_path, product_overview)):\n",
    "    time.sleep(random.randint(3., 6.))\n",
    "    # 進到商品>商品指標\n",
    "    element = driver.find_elements(By.CLASS_NAME ,'side-navbar-item')[0]\n",
    "    driver.execute_script(\"arguments[0].click();\", element)\n",
    "    time.sleep(random.randint(3., 6.))\n",
    "    # 選擇日期\n",
    "    element = driver.find_element(By.CLASS_NAME ,'bi-date-input')\n",
    "    driver.execute_script(\"arguments[0].click();\", element)\n",
    "    time.sleep(random.randint(3., 6.))\n",
    "    # 選擇昨天\n",
    "    element = driver.find_elements(By.CLASS_NAME ,'shopee-date-shortcut-item')[1]\n",
    "    driver.execute_script(\"arguments[0].click();\", element)\n",
    "    time.sleep(random.randint(50., 55.))\n",
    "    # 點擊下載\n",
    "    element = driver.find_elements(By.CLASS_NAME ,'track-click-normal-export')[0]\n",
    "    driver.execute_script(\"arguments[0].click();\", element)\n",
    "    print('product_overview download again')\n",
    "else:\n",
    "    print('product_overview is exist')"
   ]
  },
  {
   "cell_type": "code",
   "execution_count": 124,
   "id": "9156d00c",
   "metadata": {},
   "outputs": [
    {
     "name": "stdout",
     "output_type": "stream",
     "text": [
      "product_detail is exist\n"
     ]
    }
   ],
   "source": [
    "if not os.path.isfile(os.path.join(download_path, product_detail)):\n",
    "    # 進到商品\n",
    "    element = driver.find_elements(By.CLASS_NAME ,'nav-tab')[1]\n",
    "    driver.execute_script(\"arguments[0].click();\", element)\n",
    "    time.sleep(random.randint(3., 6.))\n",
    "    # 關閉教學\n",
    "    element = driver.find_elements(By.CLASS_NAME ,'shopee-button')[10]\n",
    "    driver.execute_script(\"arguments[0].click();\", element)\n",
    "    time.sleep(random.randint(3., 6.))\n",
    "    # 進到商品指標\n",
    "    element = driver.find_elements(By.CLASS_NAME ,'side-navbar-item')[1]\n",
    "    driver.execute_script(\"arguments[0].click();\", element)\n",
    "    time.sleep(random.randint(3., 6.))\n",
    "    # 選擇日期\n",
    "    element = driver.find_element(By.CLASS_NAME ,'bi-date-input')\n",
    "    driver.execute_script(\"arguments[0].click();\", element)\n",
    "    time.sleep(random.randint(3., 6.))\n",
    "    # 選擇昨天\n",
    "    element = driver.find_elements(By.CLASS_NAME ,'shopee-date-shortcut-item')[1]\n",
    "    driver.execute_script(\"arguments[0].click();\", element)\n",
    "    time.sleep(random.randint(45., 50.))\n",
    "    # 點擊下載\n",
    "    element = driver.find_elements(By.CLASS_NAME ,'shopee-button')[2]\n",
    "    driver.execute_script(\"arguments[0].click();\", element)\n",
    "    time.sleep(random.randint(20., 30.))\n",
    "    # 下載\n",
    "    element = driver.find_elements(By.CLASS_NAME ,'shopee-button')[4]\n",
    "    driver.execute_script(\"arguments[0].click();\", element)\n",
    "    print('product_detail download again')\n",
    "else:\n",
    "    print('product_detail is exist')\n",
    "\n"
   ]
  },
  {
   "cell_type": "code",
   "execution_count": 125,
   "id": "5513db08",
   "metadata": {},
   "outputs": [
    {
     "name": "stdout",
     "output_type": "stream",
     "text": [
      "traffic_overview is exist\n"
     ]
    }
   ],
   "source": [
    "if not os.path.isfile(os.path.join(download_path, traffic_overview)):\n",
    "    time.sleep(random.randint(3., 6.))\n",
    "    # 進到流量總攬\n",
    "    element = driver.find_elements(By.CLASS_NAME ,'nav-tab')[3]\n",
    "    driver.execute_script(\"arguments[0].click();\", element)\n",
    "    time.sleep(random.randint(3., 6.))\n",
    "    # 選擇日期\n",
    "    element = driver.find_element(By.CLASS_NAME ,'bi-date-input')\n",
    "    driver.execute_script(\"arguments[0].click();\", element)\n",
    "    time.sleep(random.randint(3., 6.))\n",
    "    # 選擇昨天\n",
    "    element = driver.find_elements(By.CLASS_NAME ,'shopee-date-shortcut-item')[0]\n",
    "    driver.execute_script(\"arguments[0].click();\", element)\n",
    "    time.sleep(random.randint(50., 55.))\n",
    "    # 點擊下載\n",
    "    element = driver.find_elements(By.CLASS_NAME ,'track-click-normal-export')[0]\n",
    "    driver.execute_script(\"arguments[0].click();\", element)\n",
    "    print('traffic_overview download again')\n",
    "else:\n",
    "    print('traffic_overview is exist')"
   ]
  },
  {
   "cell_type": "code",
   "execution_count": 126,
   "id": "34e9615c",
   "metadata": {},
   "outputs": [
    {
     "name": "stdout",
     "output_type": "stream",
     "text": [
      "stats is exist\n"
     ]
    }
   ],
   "source": [
    "if not os.path.isfile(os.path.join(download_path, stats)):\n",
    "    time.sleep(random.randint(3., 6.))\n",
    "    # 進到數據總覽\n",
    "    element = driver.find_elements(By.CLASS_NAME ,'nav-tab')[0]\n",
    "    driver.execute_script(\"arguments[0].click();\", element)\n",
    "    time.sleep(random.randint(3., 6.))\n",
    "    # 點掉更新公告、歡迎頁\n",
    "    try:\n",
    "        element = driver.find_elements(By.CLASS_NAME ,'shopee-button')[9]\n",
    "        driver.execute_script(\"arguments[0].click();\", element)\n",
    "    except:\n",
    "        pass\n",
    "    time.sleep(random.randint(3., 6.))\n",
    "    # 選擇日期\n",
    "    try:\n",
    "        element = driver.find_element(By.CLASS_NAME ,'bi-date-input')\n",
    "        driver.execute_script(\"arguments[0].click();\", element)\n",
    "    except:\n",
    "        pass\n",
    "    time.sleep(random.randint(3., 6.))\n",
    "    # 點掉教學蓋板\n",
    "    try:\n",
    "        element = driver.find_elements(By.CLASS_NAME ,'shopee-button')[4]\n",
    "        driver.execute_script(\"arguments[0].click();\", element)\n",
    "    except:\n",
    "        pass\n",
    "    time.sleep(random.randint(3., 6.))\n",
    "    # 選擇日期\n",
    "    try:\n",
    "        element = driver.find_element(By.CLASS_NAME ,'bi-date-input')\n",
    "        driver.execute_script(\"arguments[0].click();\", element)\n",
    "    except:\n",
    "        pass\n",
    "    time.sleep(random.randint(3., 6.))\n",
    "    # 選擇昨天\n",
    "    element = driver.find_elements(By.CLASS_NAME ,'shopee-date-shortcut-item')[1]\n",
    "    driver.execute_script(\"arguments[0].click();\", element)\n",
    "    time.sleep(random.randint(45., 50.))\n",
    "    # 點擊下載\n",
    "    element = driver.find_element(By.CLASS_NAME ,'track-click-normal-export')\n",
    "    driver.execute_script(\"arguments[0].click();\", element)\n",
    "    print('stats download again')\n",
    "else:\n",
    "    print('stats is exist')\n"
   ]
  },
  {
   "cell_type": "code",
   "execution_count": 128,
   "id": "8258a4c2",
   "metadata": {},
   "outputs": [],
   "source": [
    "# 關閉瀏覽器\n",
    "driver.quit()"
   ]
  },
  {
   "cell_type": "code",
   "execution_count": null,
   "id": "859e608c",
   "metadata": {},
   "outputs": [],
   "source": []
  },
  {
   "cell_type": "code",
   "execution_count": null,
   "id": "66f36718",
   "metadata": {},
   "outputs": [],
   "source": []
  },
  {
   "cell_type": "code",
   "execution_count": null,
   "id": "c067970c",
   "metadata": {},
   "outputs": [],
   "source": []
  },
  {
   "cell_type": "code",
   "execution_count": null,
   "id": "26451081",
   "metadata": {},
   "outputs": [],
   "source": []
  },
  {
   "cell_type": "code",
   "execution_count": null,
   "id": "1cdd6160",
   "metadata": {},
   "outputs": [],
   "source": []
  }
 ],
 "metadata": {
  "kernelspec": {
   "display_name": "gpu",
   "language": "python",
   "name": "gpu"
  },
  "language_info": {
   "codemirror_mode": {
    "name": "ipython",
    "version": 3
   },
   "file_extension": ".py",
   "mimetype": "text/x-python",
   "name": "python",
   "nbconvert_exporter": "python",
   "pygments_lexer": "ipython3",
   "version": "3.8.16"
  }
 },
 "nbformat": 4,
 "nbformat_minor": 5
}
