{
 "cells": [
  {
   "attachments": {},
   "cell_type": "markdown",
   "id": "ca017659",
   "metadata": {},
   "source": [
    "## 登入蝦皮流程"
   ]
  },
  {
   "cell_type": "code",
   "execution_count": 1,
   "id": "5fb20f9d",
   "metadata": {},
   "outputs": [],
   "source": [
    "from selenium.webdriver.chrome.service import Service as ChromeService\n",
    "from seleniumwire import webdriver\n",
    "from selenium.webdriver import Chrome\n",
    "from selenium.webdriver.common.by import By\n",
    "import time\n",
    "import random\n",
    "from selenium.webdriver.chrome.options import Options\n",
    "\n",
    "from selenium.webdriver.support.ui import WebDriverWait\n",
    "from selenium.webdriver.support import expected_conditions as EC"
   ]
  },
  {
   "cell_type": "code",
   "execution_count": 2,
   "id": "52fad6a5",
   "metadata": {},
   "outputs": [],
   "source": [
    "username = 'flychenjack01'\n",
    "password = 'Qqaz0911'\n",
    "# 商品表現網頁\n",
    "url = 'https://shopee.tw/seller/login?next=https%3A%2F%2Fseller.shopee.tw%2Fdatacenter%2Fproducts%2Fanalysis%2Fperformance'"
   ]
  },
  {
   "cell_type": "code",
   "execution_count": 3,
   "id": "8eb38aed",
   "metadata": {},
   "outputs": [],
   "source": [
    "service = ChromeService(executable_path='./chromedriver.exe')"
   ]
  },
  {
   "cell_type": "code",
   "execution_count": 4,
   "id": "df9df3c8",
   "metadata": {},
   "outputs": [],
   "source": [
    "option = webdriver.ChromeOptions()\n",
    "option.add_experimental_option(\"detach\", True)\n",
    "\n",
    "# 避免 chrome 跳出要求權限的顯示通知\n",
    "# 創建 Preferences 物件\n",
    "prefs = {\n",
    "    'profile.default_content_setting_values.notifications': 2,\n",
    "    'profile.default_content_settings.popups': 0,\n",
    "    'download.default_directory': '/path/to/download/directory',\n",
    "    'profile.content_settings.automatic_downloads': 1\n",
    "}"
   ]
  },
  {
   "cell_type": "code",
   "execution_count": 5,
   "id": "e29fd909",
   "metadata": {},
   "outputs": [],
   "source": [
    "option.add_experimental_option('prefs', prefs)"
   ]
  },
  {
   "cell_type": "code",
   "execution_count": 6,
   "id": "616dfac3",
   "metadata": {},
   "outputs": [],
   "source": [
    "driver = webdriver.Chrome(service=service, options = option)\n",
    "\n",
    "driver = webdriver.Chrome(service=service, options = option)\n",
    "driver.get(url)"
   ]
  },
  {
   "cell_type": "code",
   "execution_count": 7,
   "id": "263996b4",
   "metadata": {},
   "outputs": [],
   "source": [
    "driver.find_element(By.CSS_SELECTOR, 'input[name=\"loginKey\"]').send_keys(username)\n",
    "time.sleep(random.randint(2, 4))\n",
    "driver.find_element(By.CSS_SELECTOR, 'input[name=\"password\"]').send_keys(password)\n",
    "time.sleep(random.randint(1,3))\n",
    "driver.find_elements(By.CSS_SELECTOR, 'button')[2].click()\n",
    "\n",
    "# 結果會直接進入到商品 > 商品表現"
   ]
  },
  {
   "attachments": {},
   "cell_type": "markdown",
   "id": "eabd1431",
   "metadata": {},
   "source": [
    "# 自動化抓取資料"
   ]
  },
  {
   "attachments": {},
   "cell_type": "markdown",
   "id": "d46a6da9",
   "metadata": {},
   "source": [
    "## 進到商品>商品表現"
   ]
  },
  {
   "cell_type": "code",
   "execution_count": 8,
   "id": "abba8c1c",
   "metadata": {},
   "outputs": [],
   "source": [
    "# 進到商品>商品表現\n",
    "time.sleep(random.randint(20, 23))\n",
    "# 選擇日期\n",
    "element = driver.find_element(by=By.XPATH, value='//*[@id=\"app\"]/div[2]/div/div/div[2]/div/section/div/div/div/div[4]/div/div[1]/div/div[1]/div/div[1]/div')\n",
    "driver.execute_script(\"arguments[0].click();\", element)\n",
    "time.sleep(random.randint(10., 13.))"
   ]
  },
  {
   "cell_type": "code",
   "execution_count": 9,
   "id": "64af29a0",
   "metadata": {},
   "outputs": [
    {
     "ename": "NoSuchElementException",
     "evalue": "Message: no such element: Unable to locate element: {\"method\":\"xpath\",\"selector\":\"/html/body/div[5]/div/div/ul/li[2]\"}\n  (Session info: chrome=111.0.5563.148)\nStacktrace:\nBacktrace:\n\t(No symbol) [0x011FDCE3]\n\t(No symbol) [0x011939D1]\n\t(No symbol) [0x010A4DA8]\n\t(No symbol) [0x010D019F]\n\t(No symbol) [0x010D03AB]\n\t(No symbol) [0x010FEE62]\n\t(No symbol) [0x010EAF14]\n\t(No symbol) [0x010FD57C]\n\t(No symbol) [0x010EACC6]\n\t(No symbol) [0x010C6F68]\n\t(No symbol) [0x010C80CD]\n\tGetHandleVerifier [0x01473832+2506274]\n\tGetHandleVerifier [0x014A9794+2727300]\n\tGetHandleVerifier [0x014AE36C+2746716]\n\tGetHandleVerifier [0x012A6690+617600]\n\t(No symbol) [0x0119C712]\n\t(No symbol) [0x011A1FF8]\n\t(No symbol) [0x011A20DB]\n\t(No symbol) [0x011AC63B]\n\tBaseThreadInitThunk [0x763C00F9+25]\n\tRtlGetAppContainerNamedObjectPath [0x77D27BBE+286]\n\tRtlGetAppContainerNamedObjectPath [0x77D27B8E+238]\n",
     "output_type": "error",
     "traceback": [
      "\u001b[1;31m---------------------------------------------------------------------------\u001b[0m",
      "\u001b[1;31mNoSuchElementException\u001b[0m                    Traceback (most recent call last)",
      "Cell \u001b[1;32mIn[9], line 2\u001b[0m\n\u001b[0;32m      1\u001b[0m \u001b[38;5;66;03m# 選擇昨天\u001b[39;00m\n\u001b[1;32m----> 2\u001b[0m element \u001b[38;5;241m=\u001b[39m \u001b[43mdriver\u001b[49m\u001b[38;5;241;43m.\u001b[39;49m\u001b[43mfind_element\u001b[49m\u001b[43m(\u001b[49m\u001b[43mby\u001b[49m\u001b[38;5;241;43m=\u001b[39;49m\u001b[43mBy\u001b[49m\u001b[38;5;241;43m.\u001b[39;49m\u001b[43mXPATH\u001b[49m\u001b[43m,\u001b[49m\u001b[43m \u001b[49m\u001b[43mvalue\u001b[49m\u001b[38;5;241;43m=\u001b[39;49m\u001b[38;5;124;43m'\u001b[39;49m\u001b[38;5;124;43m/html/body/div[5]/div/div/ul/li[2]\u001b[39;49m\u001b[38;5;124;43m'\u001b[39;49m\u001b[43m)\u001b[49m\n\u001b[0;32m      3\u001b[0m driver\u001b[38;5;241m.\u001b[39mexecute_script(\u001b[38;5;124m\"\u001b[39m\u001b[38;5;124marguments[0].click();\u001b[39m\u001b[38;5;124m\"\u001b[39m, element)\n\u001b[0;32m      4\u001b[0m time\u001b[38;5;241m.\u001b[39msleep(random\u001b[38;5;241m.\u001b[39mrandint(\u001b[38;5;241m3.\u001b[39m, \u001b[38;5;241m6.\u001b[39m))\n",
      "File \u001b[1;32m~\\anaconda3\\envs\\tibame_project\\lib\\site-packages\\selenium\\webdriver\\remote\\webdriver.py:831\u001b[0m, in \u001b[0;36mWebDriver.find_element\u001b[1;34m(self, by, value)\u001b[0m\n\u001b[0;32m    828\u001b[0m     by \u001b[38;5;241m=\u001b[39m By\u001b[38;5;241m.\u001b[39mCSS_SELECTOR\n\u001b[0;32m    829\u001b[0m     value \u001b[38;5;241m=\u001b[39m \u001b[38;5;124mf\u001b[39m\u001b[38;5;124m'\u001b[39m\u001b[38;5;124m[name=\u001b[39m\u001b[38;5;124m\"\u001b[39m\u001b[38;5;132;01m{\u001b[39;00mvalue\u001b[38;5;132;01m}\u001b[39;00m\u001b[38;5;124m\"\u001b[39m\u001b[38;5;124m]\u001b[39m\u001b[38;5;124m'\u001b[39m\n\u001b[1;32m--> 831\u001b[0m \u001b[38;5;28;01mreturn\u001b[39;00m \u001b[38;5;28;43mself\u001b[39;49m\u001b[38;5;241;43m.\u001b[39;49m\u001b[43mexecute\u001b[49m\u001b[43m(\u001b[49m\u001b[43mCommand\u001b[49m\u001b[38;5;241;43m.\u001b[39;49m\u001b[43mFIND_ELEMENT\u001b[49m\u001b[43m,\u001b[49m\u001b[43m \u001b[49m\u001b[43m{\u001b[49m\u001b[38;5;124;43m\"\u001b[39;49m\u001b[38;5;124;43musing\u001b[39;49m\u001b[38;5;124;43m\"\u001b[39;49m\u001b[43m:\u001b[49m\u001b[43m \u001b[49m\u001b[43mby\u001b[49m\u001b[43m,\u001b[49m\u001b[43m \u001b[49m\u001b[38;5;124;43m\"\u001b[39;49m\u001b[38;5;124;43mvalue\u001b[39;49m\u001b[38;5;124;43m\"\u001b[39;49m\u001b[43m:\u001b[49m\u001b[43m \u001b[49m\u001b[43mvalue\u001b[49m\u001b[43m}\u001b[49m\u001b[43m)\u001b[49m[\u001b[38;5;124m\"\u001b[39m\u001b[38;5;124mvalue\u001b[39m\u001b[38;5;124m\"\u001b[39m]\n",
      "File \u001b[1;32m~\\anaconda3\\envs\\tibame_project\\lib\\site-packages\\selenium\\webdriver\\remote\\webdriver.py:440\u001b[0m, in \u001b[0;36mWebDriver.execute\u001b[1;34m(self, driver_command, params)\u001b[0m\n\u001b[0;32m    438\u001b[0m response \u001b[38;5;241m=\u001b[39m \u001b[38;5;28mself\u001b[39m\u001b[38;5;241m.\u001b[39mcommand_executor\u001b[38;5;241m.\u001b[39mexecute(driver_command, params)\n\u001b[0;32m    439\u001b[0m \u001b[38;5;28;01mif\u001b[39;00m response:\n\u001b[1;32m--> 440\u001b[0m     \u001b[38;5;28;43mself\u001b[39;49m\u001b[38;5;241;43m.\u001b[39;49m\u001b[43merror_handler\u001b[49m\u001b[38;5;241;43m.\u001b[39;49m\u001b[43mcheck_response\u001b[49m\u001b[43m(\u001b[49m\u001b[43mresponse\u001b[49m\u001b[43m)\u001b[49m\n\u001b[0;32m    441\u001b[0m     response[\u001b[38;5;124m\"\u001b[39m\u001b[38;5;124mvalue\u001b[39m\u001b[38;5;124m\"\u001b[39m] \u001b[38;5;241m=\u001b[39m \u001b[38;5;28mself\u001b[39m\u001b[38;5;241m.\u001b[39m_unwrap_value(response\u001b[38;5;241m.\u001b[39mget(\u001b[38;5;124m\"\u001b[39m\u001b[38;5;124mvalue\u001b[39m\u001b[38;5;124m\"\u001b[39m, \u001b[38;5;28;01mNone\u001b[39;00m))\n\u001b[0;32m    442\u001b[0m     \u001b[38;5;28;01mreturn\u001b[39;00m response\n",
      "File \u001b[1;32m~\\anaconda3\\envs\\tibame_project\\lib\\site-packages\\selenium\\webdriver\\remote\\errorhandler.py:245\u001b[0m, in \u001b[0;36mErrorHandler.check_response\u001b[1;34m(self, response)\u001b[0m\n\u001b[0;32m    243\u001b[0m         alert_text \u001b[38;5;241m=\u001b[39m value[\u001b[38;5;124m\"\u001b[39m\u001b[38;5;124malert\u001b[39m\u001b[38;5;124m\"\u001b[39m]\u001b[38;5;241m.\u001b[39mget(\u001b[38;5;124m\"\u001b[39m\u001b[38;5;124mtext\u001b[39m\u001b[38;5;124m\"\u001b[39m)\n\u001b[0;32m    244\u001b[0m     \u001b[38;5;28;01mraise\u001b[39;00m exception_class(message, screen, stacktrace, alert_text)  \u001b[38;5;66;03m# type: ignore[call-arg]  # mypy is not smart enough here\u001b[39;00m\n\u001b[1;32m--> 245\u001b[0m \u001b[38;5;28;01mraise\u001b[39;00m exception_class(message, screen, stacktrace)\n",
      "\u001b[1;31mNoSuchElementException\u001b[0m: Message: no such element: Unable to locate element: {\"method\":\"xpath\",\"selector\":\"/html/body/div[5]/div/div/ul/li[2]\"}\n  (Session info: chrome=111.0.5563.148)\nStacktrace:\nBacktrace:\n\t(No symbol) [0x011FDCE3]\n\t(No symbol) [0x011939D1]\n\t(No symbol) [0x010A4DA8]\n\t(No symbol) [0x010D019F]\n\t(No symbol) [0x010D03AB]\n\t(No symbol) [0x010FEE62]\n\t(No symbol) [0x010EAF14]\n\t(No symbol) [0x010FD57C]\n\t(No symbol) [0x010EACC6]\n\t(No symbol) [0x010C6F68]\n\t(No symbol) [0x010C80CD]\n\tGetHandleVerifier [0x01473832+2506274]\n\tGetHandleVerifier [0x014A9794+2727300]\n\tGetHandleVerifier [0x014AE36C+2746716]\n\tGetHandleVerifier [0x012A6690+617600]\n\t(No symbol) [0x0119C712]\n\t(No symbol) [0x011A1FF8]\n\t(No symbol) [0x011A20DB]\n\t(No symbol) [0x011AC63B]\n\tBaseThreadInitThunk [0x763C00F9+25]\n\tRtlGetAppContainerNamedObjectPath [0x77D27BBE+286]\n\tRtlGetAppContainerNamedObjectPath [0x77D27B8E+238]\n"
     ]
    }
   ],
   "source": [
    "# 選擇昨天\n",
    "element = driver.find_element(by=By.XPATH, value='/html/body/div[2]/div/div/ul/li[2]')\n",
    "driver.execute_script(\"arguments[0].click();\", element)\n",
    "time.sleep(random.randint(3., 6.))"
   ]
  },
  {
   "cell_type": "code",
   "execution_count": null,
   "id": "d34caa5b",
   "metadata": {},
   "outputs": [],
   "source": [
    "# 點擊下載\n",
    "element = driver.find_element(by=By.XPATH, value='//*[@id=\"app\"]/div[2]/div/div/div[2]/div/section/div/div/div/div[4]/div/div[3]/div[1]/div/div/button[1]')\n",
    "driver.execute_script(\"arguments[0].click();\", element)\n",
    "time.sleep(random.randint(4., 10.))"
   ]
  },
  {
   "cell_type": "code",
   "execution_count": null,
   "id": "35e00abb",
   "metadata": {},
   "outputs": [],
   "source": [
    "# 下載\n",
    "element = driver.find_element(by=By.XPATH, value='//*[@id=\"app\"]/div[2]/div/div/div[2]/div/section/div/div/div/div[4]/div/div[3]/div[1]/div/div[2]/div[3]/div[2]/div[2]/button')\n",
    "driver.execute_script(\"arguments[0].click();\", element)"
   ]
  },
  {
   "attachments": {},
   "cell_type": "markdown",
   "id": "6d66b635",
   "metadata": {},
   "source": [
    "## 進到商品>商品指標"
   ]
  },
  {
   "cell_type": "code",
   "execution_count": null,
   "id": "520e48e9",
   "metadata": {},
   "outputs": [],
   "source": [
    "time.sleep(random.randint(45, 50))\n",
    "# 進到商品>商品指標\n",
    "element = driver.find_element(by=By.XPATH, value='//*[@id=\"app\"]/div[2]/div/div/div[2]/nav/section[1]/ul/a[1]')\n",
    "driver.execute_script(\"arguments[0].click();\", element)\n",
    "time.sleep(random.randint(2, 4))"
   ]
  },
  {
   "cell_type": "code",
   "execution_count": null,
   "id": "b71a1983",
   "metadata": {},
   "outputs": [],
   "source": [
    "time.sleep(random.randint(2, 4))\n",
    "# 點掉教學蓋板\n",
    "element = driver.find_element(by=By.XPATH, value='/html/body/div[5]/div[2]/div/button')\n",
    "driver.execute_script(\"arguments[0].click();\", element)\n",
    "time.sleep(random.randint(2, 4))"
   ]
  },
  {
   "cell_type": "code",
   "execution_count": null,
   "id": "c6dbeeac",
   "metadata": {},
   "outputs": [],
   "source": [
    "# 選擇日期\n",
    "element = driver.find_element(by=By.XPATH, value='//*[@id=\"app\"]/div[2]/div/div/div[2]/div/section/div/div/div[4]/div/div[1]/div/div[1]/div/div[1]/div')\n",
    "driver.execute_script(\"arguments[0].click();\", element)\n",
    "time.sleep(random.randint(2, 4))"
   ]
  },
  {
   "cell_type": "code",
   "execution_count": null,
   "id": "15240a41",
   "metadata": {},
   "outputs": [],
   "source": [
    "# 選擇昨天\n",
    "element = driver.find_element(by=By.XPATH, value='/html/body/div[5]/div/div/ul/li[2]')\n",
    "driver.execute_script(\"arguments[0].click();\", element)\n",
    "time.sleep(random.randint(2, 4))"
   ]
  },
  {
   "cell_type": "code",
   "execution_count": null,
   "id": "1d6fe3de",
   "metadata": {},
   "outputs": [],
   "source": [
    "# 點擊下載\n",
    "element = driver.find_element(by=By.XPATH, value='//*[@id=\"app\"]/div[2]/div/div/div[2]/div/section/div/div/div[4]/div/button')\n",
    "driver.execute_script(\"arguments[0].click();\", element)"
   ]
  },
  {
   "attachments": {},
   "cell_type": "markdown",
   "id": "ff623d5b",
   "metadata": {},
   "source": [
    "## 進到流量總攬"
   ]
  },
  {
   "cell_type": "code",
   "execution_count": null,
   "id": "37883eaf",
   "metadata": {},
   "outputs": [],
   "source": [
    "time.sleep(random.randint(45, 50))\n",
    "# 進到流量總攬\n",
    "element = driver.find_element(by=By.XPATH, value='//*[@id=\"app\"]/div[2]/div/div/div[1]/nav/a[4]')\n",
    "driver.execute_script(\"arguments[0].click();\", element)\n",
    "time.sleep(random.randint(2, 4))"
   ]
  },
  {
   "cell_type": "code",
   "execution_count": null,
   "id": "4fedc906",
   "metadata": {},
   "outputs": [],
   "source": [
    "# 選擇日期\n",
    "element = driver.find_element(by=By.XPATH, value='//*[@id=\"app\"]/div[2]/div/div/div[2]/div/div/div/div[4]/div/div[1]/div/div[1]/div/div[1]/div')\n",
    "driver.execute_script(\"arguments[0].click();\", element)\n",
    "time.sleep(random.randint(2, 4))"
   ]
  },
  {
   "cell_type": "code",
   "execution_count": null,
   "id": "8d8900d0",
   "metadata": {},
   "outputs": [],
   "source": [
    "# 選擇昨天\n",
    "element = driver.find_element(by=By.XPATH, value='/html/body/div[5]/div/div/ul/li[1]')\n",
    "driver.execute_script(\"arguments[0].click();\", element)\n",
    "time.sleep(random.randint(2, 4))  "
   ]
  },
  {
   "cell_type": "code",
   "execution_count": null,
   "id": "c328a2a4",
   "metadata": {},
   "outputs": [],
   "source": [
    "# 點擊下載>下載\n",
    "element = driver.find_element(by=By.XPATH, value='//*[@id=\"app\"]/div[2]/div/div/div[2]/div/div/div/div[4]/div/button')\n",
    "driver.execute_script(\"arguments[0].click();\", element)"
   ]
  },
  {
   "attachments": {},
   "cell_type": "markdown",
   "id": "47968385",
   "metadata": {},
   "source": [
    "## 進到數據總覽"
   ]
  },
  {
   "cell_type": "code",
   "execution_count": null,
   "id": "dd633b6b",
   "metadata": {},
   "outputs": [],
   "source": [
    "# 進到數據總覽\n",
    "time.sleep(random.randint(45, 50))\n",
    "\n",
    "element = driver.find_element(by=By.XPATH, value='//*[@id=\"app\"]/div[2]/div/div/div[1]/nav/a[1]')\n",
    "driver.execute_script(\"arguments[0].click();\", element)\n",
    "time.sleep(random.randint(2, 4))"
   ]
  },
  {
   "cell_type": "code",
   "execution_count": null,
   "id": "1d257032",
   "metadata": {},
   "outputs": [],
   "source": [
    "time.sleep(random.randint(2, 4))\n",
    "# 點掉更新公告\n",
    "element = driver.find_element(by=By.XPATH, value='//*[@id=\"app\"]/div[2]/div/div/div[4]/div/div/div/div/div/div[3]/div/button')\n",
    "driver.execute_script(\"arguments[0].click();\", element)\n",
    "time.sleep(random.randint(2, 4))"
   ]
  },
  {
   "cell_type": "code",
   "execution_count": null,
   "id": "5d3b5f85",
   "metadata": {},
   "outputs": [],
   "source": [
    "time.sleep(random.randint(2, 4))\n",
    "# 點掉教學蓋板\n",
    "element = driver.find_element(by=By.XPATH, value='//*[@id=\"app\"]/div[2]/div/div/div[4]/div/div[2]/div[3]/div/button[1]')\n",
    "driver.execute_script(\"arguments[0].click();\", element)\n",
    "time.sleep(random.randint(2, 4))"
   ]
  },
  {
   "cell_type": "code",
   "execution_count": null,
   "id": "6e40c489",
   "metadata": {},
   "outputs": [],
   "source": [
    "# 選擇日期\n",
    "element = driver.find_element(by=By.XPATH, value='//*[@id=\"app\"]/div[2]/div/div/div[2]/div/div[4]/div/div[1]/div/div[1]/div/div[1]/div')\n",
    "driver.execute_script(\"arguments[0].click();\", element)\n",
    "time.sleep(random.randint(2, 4))"
   ]
  },
  {
   "cell_type": "code",
   "execution_count": null,
   "id": "d2bac58e",
   "metadata": {},
   "outputs": [],
   "source": [
    "# 選擇昨天\n",
    "element = driver.find_element(by=By.XPATH, value='/html/body/div[5]/div/div/ul/li[2]')\n",
    "driver.execute_script(\"arguments[0].click();\", element)\n",
    "time.sleep(random.randint(2, 4))"
   ]
  },
  {
   "cell_type": "code",
   "execution_count": null,
   "id": "6c76d263",
   "metadata": {},
   "outputs": [],
   "source": [
    "time.sleep(random.randint(2, 4))\n",
    "# 點掉更多數據蓋板\n",
    "element = driver.find_element(by=By.XPATH, value='//*[@id=\"app\"]/div[2]/div/div/div[2]/div/section/div[2]/div/div/div/div/div[2]/div/button')\n",
    "driver.execute_script(\"arguments[0].click();\", element)\n",
    "time.sleep(random.randint(2, 4))"
   ]
  },
  {
   "cell_type": "code",
   "execution_count": null,
   "id": "808d46ff",
   "metadata": {},
   "outputs": [],
   "source": [
    "# 點擊下載\n",
    "element = driver.find_element(by=By.XPATH, value='//*[@id=\"app\"]/div[2]/div/div/div[2]/div/div[4]/div/button')\n",
    "driver.execute_script(\"arguments[0].click();\", element)\n",
    "time.sleep(random.randint(2, 4))"
   ]
  },
  {
   "cell_type": "code",
   "execution_count": null,
   "id": "8d4028a8",
   "metadata": {},
   "outputs": [],
   "source": []
  },
  {
   "cell_type": "code",
   "execution_count": null,
   "id": "b6bc50df",
   "metadata": {},
   "outputs": [],
   "source": []
  },
  {
   "cell_type": "code",
   "execution_count": null,
   "id": "8258a4c2",
   "metadata": {},
   "outputs": [],
   "source": []
  },
  {
   "cell_type": "code",
   "execution_count": null,
   "id": "9156d00c",
   "metadata": {},
   "outputs": [],
   "source": []
  },
  {
   "cell_type": "code",
   "execution_count": null,
   "id": "34e9615c",
   "metadata": {},
   "outputs": [],
   "source": []
  },
  {
   "cell_type": "code",
   "execution_count": null,
   "id": "859e608c",
   "metadata": {},
   "outputs": [],
   "source": []
  }
 ],
 "metadata": {
  "kernelspec": {
   "display_name": "Python[tibame_project]",
   "language": "python",
   "name": "tibame_project"
  },
  "language_info": {
   "codemirror_mode": {
    "name": "ipython",
    "version": 3
   },
   "file_extension": ".py",
   "mimetype": "text/x-python",
   "name": "python",
   "nbconvert_exporter": "python",
   "pygments_lexer": "ipython3",
   "version": "3.8.16"
  }
 },
 "nbformat": 4,
 "nbformat_minor": 5
}
