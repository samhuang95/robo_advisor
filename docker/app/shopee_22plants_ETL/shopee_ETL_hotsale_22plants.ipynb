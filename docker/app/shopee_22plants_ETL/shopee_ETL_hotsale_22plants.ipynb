{
 "cells": [
  {
   "cell_type": "code",
   "execution_count": null,
   "id": "5e85e40b",
   "metadata": {},
   "outputs": [],
   "source": [
    "import requests\n",
    "import json\n",
    "import pandas as pd\n",
    "import time\n",
    "from seleniumwire import webdriver\n",
    "from selenium.webdriver.common.by import By\n",
    "from selenium.webdriver.chrome.service import Service as ChromeService\n",
    "from webdriver_manager.chrome import ChromeDriverManager\n",
    "import re\n",
    "import random\n",
    "import zlib\n",
    "from bs4 import BeautifulSoup"
   ]
  },
  {
   "cell_type": "code",
   "execution_count": null,
   "id": "804b2a8e",
   "metadata": {},
   "outputs": [],
   "source": [
    "User_Agent = 'Mozilla/5.0 (Windows NT 10.0; Win64; x64) AppleWebKit/537.36 (KHTML, like Gecko) Chrome/113.0.0.0 Safari/537.36'\n",
    "my_headers = {\n",
    "    'user-agent': User_Agent,\n",
    "    'af-ac-enc-dat': 'AAcyLjQuMS0yAAABhEYD7joAAAjHAcEAAAAAAAAAAOYyhFB7rjob26/8rq6jA0F3J6Kfg5aGEX+GYncix7fIyPghAefe3JS894jq/3nC9cJjpEn32HTqasIUhFkInWzoCOj1uSC5kl6LU06aSrm61kX/Ny1L5jzxFjDrS1IzPHwt9muZUbatRPTf42k24UXHBZsir4fwWxQLVKw5gDu5CyybpSVWFCd7OLsY30Hj1OjSKZvDNTpkAhYqvdOyLCTGr41kHyFGV3ZaoQ01NX1u6R9AnBG6X9s1ynZK6vnTBgzBIOKTNFS4j1VT8sOl1BEtObri8ZUW3OTOHeCO4vGDCq4gRJFmvwSm1BNdccjxAekgEx3xwroP6ZL6LO5bh9QSxuKGYkUmR84CcHLB6dmMPnXDUGkagca9MFiK8RmRsrN2vcLDNTpkAhYqvdOyLCTGr41kKUmjTinalW5/ctjHa7Lte+06J5ekdC078Iv4wrMjrvbzUjYNqi2Hdu8tLPGrNL/jmEfixe8rpESf8+9J+WOK8kusILDBjMDq/xa+8hI9GWbdxIdVmB5payUD+EtCC4BUkWOzjLDykZY2dhCO2aemlpFjs4yw8pGWNnYQjtmnppZDbeO6witi5K5LrYrVnhWzWCX7lKDZYje5tgIJeETgYw==',\n",
    "    'Accept': 'application/json',\n",
    "    'X-API-SOURCE': 'pc',\n",
    "    'X-Requested-With': 'X',\n",
    "    'X-CSRFToken': 'IDq3287GJnXS5JJj5c2p5NfuvByGNpst',\n",
    "    'sz-token': 'Ra/NJSFhMbpYXlWXB/kMKw==|tbtAeRuQraLaHXP0PPLER62V4RREUxTHlM0sHpOnYMwbMMQeM9+qLgkomlUGpUVkjby5btMmGHCl9DFdTYOavUNJ3LuXv0sobg==|oZGZsgOMDe5oaMrE|06|3',\n",
    "    'sec-ch-ua-platform': '\"Windows\"',\n",
    "    'Sec-Fetch-Site': 'same-site',\n",
    "    'Sec-Fetch-Mode': 'cors',\n",
    "    'Sec-Fetch-Dest': 'empty',\n",
    "    'Cookie': 'SPC_EC=eWVuVzdSMU10OGFHb1QzV2r5/vvLeTNvDDk2AVnFbPKB2gmfMPe5xvZ7NC81wUIC8vKKgoTpt9skOsCk1GO0keSXJKYLjIyLqe8X/29ILr4P81AUXvQS47ckylZx/FY+HgktG2GoRotjwTZqy0N/Z/JBNtDB4bP/+BysNRDZebk=; REC_T_ID=206a7062-d446-11ed-a75f-f4ee081d8fa9; SPC_SI=tTljZAAAAABvaHFpWlRwcsy1sQAAAAAAT3ZNWGx3YUQ=; SPC_U=32201823; SPC_R_T_ID=zth6DF58mGimc15AQ/5CfCexpv5ZrgMY1HlamI+vCDJvoXF8QABjWaVClfZQ8DPfpFN+JgnIJWGJB2dD3mvNxH7bCfGkFSNe12kGYJHakcrsfFIUih37vW9sXT5XjrOu9qTC8+k0Qb4EKwHPqa25FYe4t2KNiw/S3TVN5ixy2Jo=; SPC_R_T_IV=WVUycHVickM2eE5idGRMRg==; SPC_T_ID=zth6DF58mGimc15AQ/5CfCexpv5ZrgMY1HlamI+vCDJvoXF8QABjWaVClfZQ8DPfpFN+JgnIJWGJB2dD3mvNxH7bCfGkFSNe12kGYJHakcrsfFIUih37vW9sXT5XjrOu9qTC8+k0Qb4EKwHPqa25FYe4t2KNiw/S3TVN5ixy2Jo=; SPC_T_IV=WVUycHVickM2eE5idGRMRg==',\n",
    "    'X-Request-Id':'1f8a1b84fc29739bfde9231d03365700:000000067b7a9dae:0000000000000000'\n",
    "}"
   ]
  },
  {
   "cell_type": "code",
   "execution_count": null,
   "id": "7d0ec611",
   "metadata": {},
   "outputs": [],
   "source": [
    "username=''\n",
    "password=''\n",
    "keyword = \"七變化虎耳草\"\n",
    "ecode = 'utf-8-sig'\n",
    "page = 1"
   ]
  },
  {
   "cell_type": "code",
   "execution_count": null,
   "id": "98bf2e51",
   "metadata": {},
   "outputs": [],
   "source": [
    "service = ChromeService(executable_path=ChromeDriverManager().install())\n",
    "options = webdriver.ChromeOptions()\n",
    "prefs = {\"profile.default_content_setting_values.notifications\" : 2}\n",
    "options.add_experimental_option(\"prefs\",prefs)\n",
    "driver = webdriver.Chrome(service=service, chrome_options=options)\n",
    "time.sleep(random.randint(10, 20))"
   ]
  },
  {
   "cell_type": "code",
   "execution_count": null,
   "id": "6698d782",
   "metadata": {},
   "outputs": [],
   "source": [
    "driver.get('https://shopee.tw/search?keyword=' + keyword )\n",
    "time.sleep(random.randint(10,20))"
   ]
  },
  {
   "cell_type": "code",
   "execution_count": null,
   "id": "138d50d2",
   "metadata": {},
   "outputs": [],
   "source": [
    "driver.find_element(By.CSS_SELECTOR, 'input[name=\"loginKey\"]').send_keys(username)\n",
    "time.sleep(2)\n",
    "driver.find_element(By.CSS_SELECTOR, 'input[name=\"password\"]').send_keys(password)\n",
    "time.sleep(3)\n",
    "driver.find_element(by=By.XPATH, value='//*[@id=\"main\"]/div/div[2]/div/div/div/div[2]/form/div/div[2]/button').click()\n",
    "time.sleep(3) \n",
    "#  需要驗證後再進行後段"
   ]
  },
  {
   "cell_type": "code",
   "execution_count": null,
   "id": "66b33253",
   "metadata": {},
   "outputs": [],
   "source": [
    "print('---------- 開始進行爬蟲 ----------')\n",
    "tStart = time.time()"
   ]
  },
  {
   "cell_type": "code",
   "execution_count": null,
   "id": "c1fb9541",
   "metadata": {},
   "outputs": [],
   "source": [
    "plants=['七變化虎耳草','大西瓜皮椒草','大麻葉花燭','小西瓜皮椒草','白斑合果芋','白斑姑婆芋','白斑龜背芋','明脈火鶴','油畫竹芋','紅玉椒草','姬龜背芋','斑葉心葉蔓綠絨','斑葉白鶴芋','斑葉豹紋竹芋','絨葉蔓綠絨','黑合果芋','黑頂卷柏','瑞士起司窗孔龜背芋','銅鏡觀音蓮','斑葉獨角獸蔓綠絨','飄帶火鶴','灑金蔓綠絨']\n",
    "for plant in plants:\n",
    "    keyword = plant\n",
    "    itemid = []\n",
    "    shopid =[]\n",
    "    name = []\n",
    "    mounthly_sales = []\n",
    "    \n",
    "    driver.get('https://shopee.tw/search?keyword=' + keyword +'&page=0&sortBy=sales' )\n",
    "    time.sleep(random.randint(10,20))\n",
    "\n",
    "    # 滾動頁面\n",
    "    for scroll in range(6):\n",
    "        driver.execute_script('window.scrollBy(0,1000)')\n",
    "        time.sleep(random.randint(10,15))\n",
    "    #取得商品內容\n",
    "    for item, thename in zip (driver.find_elements(By.CSS_SELECTOR,'div.col-xs-2-4 *[data-sqe=\"link\"]'),\n",
    "                              driver.find_elements(By.CSS_SELECTOR,'div.col-xs-2-4 *[data-sqe=\"name\"]')):\n",
    "        getID = item.get_attribute('href')\n",
    "        theitemid = int((getID[getID.rfind('.')+1:getID.rfind('?')]))\n",
    "        theshopid = int(getID[ getID[:getID.rfind('.')].rfind('.')+1 :getID.rfind('.')])\n",
    "        itemid.append(theitemid)\n",
    "        shopid.append(theshopid)\n",
    "        getname = thename.text.split('\\n')[0]\n",
    "        name.append(getname)\n",
    "    \n",
    "# 取得月銷量\n",
    "    get_mounthly_sales = driver.find_elements(By.CSS_SELECTOR, \"div.r6HknA\")\n",
    "    for element in get_mounthly_sales:\n",
    "        content = element.text\n",
    "        if content == \"\":\n",
    "            mounthly_sales.append(0)\n",
    "            print(0)\n",
    "        else:\n",
    "            regex_pattern = r\"月銷量\\D*(\\d{1,3}(?:,\\d{3})*|\\d+)\"\n",
    "            match = re.search(regex_pattern, content)\n",
    "            if match:\n",
    "                mounthly_sales_value = int(match.group(1).replace(\",\", \"\"))\n",
    "                mounthly_sales.append(mounthly_sales_value)\n",
    "                print(mounthly_sales_value)\n",
    "            else:\n",
    "                mounthly_sales.append(0)\n",
    "                print(0)\n",
    "            \n",
    "    dic = {\n",
    "        '商品ID':itemid,\n",
    "        '賣家ID':shopid,\n",
    "        '商品名稱':name,\n",
    "        '月銷量':mounthly_sales\n",
    "    }\n",
    "    #處理字典 dic，將字典中的每個值（列表）都填充到相同的長度 因為在創建 DataFrame 時，所有列都需要具有相同的長度。\n",
    "    max_length = max([len(v) for v in dic.values()])\n",
    "    for key, value in dic.items():\n",
    "        if len(value) < max_length:\n",
    "            dic[key] = value + [None] * (max_length - len(value))\n",
    "    pd.DataFrame(dic).to_csv(keyword +'_月銷量.csv', encoding = ecode, index=False)\n",
    "\n",
    "    tEnd = time.time()#計時結束\n",
    "    totalTime = int(tEnd - tStart)\n",
    "    minute = totalTime // 60\n",
    "    second = totalTime % 60\n",
    "    print('資料儲存完成，花費時間（約）： ' + str(minute) + ' 分 ' + str(second) + '秒')"
   ]
  },
  {
   "cell_type": "code",
   "execution_count": null,
   "id": "b3c556d9",
   "metadata": {},
   "outputs": [],
   "source": [
    "tEnd = time.time()#計時結束\n",
    "totalTime = int(tEnd - tStart)\n",
    "minute = totalTime // 60\n",
    "second = totalTime % 60\n",
    "print('資料儲存完成，花費時間（約）： ' + str(minute) + ' 分 ' + str(second) + '秒')"
   ]
  },
  {
   "cell_type": "code",
   "execution_count": null,
   "id": "2fa19c82",
   "metadata": {},
   "outputs": [],
   "source": [
    "driver.close() "
   ]
  },
  {
   "cell_type": "code",
   "execution_count": null,
   "id": "3d53b6ec",
   "metadata": {},
   "outputs": [],
   "source": []
  }
 ],
 "metadata": {
  "kernelspec": {
   "display_name": "Python[conda env:tensorflow2_GPU]",
   "language": "python",
   "name": "tensorflow2_gpu"
  },
  "language_info": {
   "codemirror_mode": {
    "name": "ipython",
    "version": 3
   },
   "file_extension": ".py",
   "mimetype": "text/x-python",
   "name": "python",
   "nbconvert_exporter": "python",
   "pygments_lexer": "ipython3",
   "version": "3.8.16"
  }
 },
 "nbformat": 4,
 "nbformat_minor": 5
}
